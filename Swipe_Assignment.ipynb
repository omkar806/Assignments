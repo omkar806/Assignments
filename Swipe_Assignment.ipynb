{
  "nbformat": 4,
  "nbformat_minor": 0,
  "metadata": {
    "colab": {
      "provenance": [],
      "authorship_tag": "ABX9TyP4Y31wfkic3UFCoMkQ9VKS",
      "include_colab_link": true
    },
    "kernelspec": {
      "name": "python3",
      "display_name": "Python 3"
    },
    "language_info": {
      "name": "python"
    }
  },
  "cells": [
    {
      "cell_type": "markdown",
      "metadata": {
        "id": "view-in-github",
        "colab_type": "text"
      },
      "source": [
        "<a href=\"https://colab.research.google.com/github/omkar806/Assignments/blob/main/Swipe_Assignment.ipynb\" target=\"_parent\"><img src=\"https://colab.research.google.com/assets/colab-badge.svg\" alt=\"Open In Colab\"/></a>"
      ]
    },
    {
      "cell_type": "code",
      "execution_count": 2,
      "metadata": {
        "colab": {
          "base_uri": "https://localhost:8080/"
        },
        "id": "DWf0K8VKIfx5",
        "outputId": "82139a0b-4e37-4a92-be99-b7be4d6e6b65"
      },
      "outputs": [
        {
          "output_type": "stream",
          "name": "stdout",
          "text": [
            "Requirement already satisfied: pypdf in /usr/local/lib/python3.10/dist-packages (4.3.1)\n",
            "Requirement already satisfied: openai in /usr/local/lib/python3.10/dist-packages (1.40.2)\n",
            "Requirement already satisfied: tiktoken in /usr/local/lib/python3.10/dist-packages (0.7.0)\n",
            "Collecting pdf2image\n",
            "  Downloading pdf2image-1.17.0-py3-none-any.whl.metadata (6.2 kB)\n",
            "Requirement already satisfied: typing_extensions>=4.0 in /usr/local/lib/python3.10/dist-packages (from pypdf) (4.12.2)\n",
            "Requirement already satisfied: anyio<5,>=3.5.0 in /usr/local/lib/python3.10/dist-packages (from openai) (3.7.1)\n",
            "Requirement already satisfied: distro<2,>=1.7.0 in /usr/lib/python3/dist-packages (from openai) (1.7.0)\n",
            "Requirement already satisfied: httpx<1,>=0.23.0 in /usr/local/lib/python3.10/dist-packages (from openai) (0.27.0)\n",
            "Requirement already satisfied: jiter<1,>=0.4.0 in /usr/local/lib/python3.10/dist-packages (from openai) (0.5.0)\n",
            "Requirement already satisfied: pydantic<3,>=1.9.0 in /usr/local/lib/python3.10/dist-packages (from openai) (2.8.2)\n",
            "Requirement already satisfied: sniffio in /usr/local/lib/python3.10/dist-packages (from openai) (1.3.1)\n",
            "Requirement already satisfied: tqdm>4 in /usr/local/lib/python3.10/dist-packages (from openai) (4.66.5)\n",
            "Requirement already satisfied: regex>=2022.1.18 in /usr/local/lib/python3.10/dist-packages (from tiktoken) (2024.5.15)\n",
            "Requirement already satisfied: requests>=2.26.0 in /usr/local/lib/python3.10/dist-packages (from tiktoken) (2.32.3)\n",
            "Requirement already satisfied: pillow in /usr/local/lib/python3.10/dist-packages (from pdf2image) (9.4.0)\n",
            "Requirement already satisfied: idna>=2.8 in /usr/local/lib/python3.10/dist-packages (from anyio<5,>=3.5.0->openai) (3.7)\n",
            "Requirement already satisfied: exceptiongroup in /usr/local/lib/python3.10/dist-packages (from anyio<5,>=3.5.0->openai) (1.2.2)\n",
            "Requirement already satisfied: certifi in /usr/local/lib/python3.10/dist-packages (from httpx<1,>=0.23.0->openai) (2024.7.4)\n",
            "Requirement already satisfied: httpcore==1.* in /usr/local/lib/python3.10/dist-packages (from httpx<1,>=0.23.0->openai) (1.0.5)\n",
            "Requirement already satisfied: h11<0.15,>=0.13 in /usr/local/lib/python3.10/dist-packages (from httpcore==1.*->httpx<1,>=0.23.0->openai) (0.14.0)\n",
            "Requirement already satisfied: annotated-types>=0.4.0 in /usr/local/lib/python3.10/dist-packages (from pydantic<3,>=1.9.0->openai) (0.7.0)\n",
            "Requirement already satisfied: pydantic-core==2.20.1 in /usr/local/lib/python3.10/dist-packages (from pydantic<3,>=1.9.0->openai) (2.20.1)\n",
            "Requirement already satisfied: charset-normalizer<4,>=2 in /usr/local/lib/python3.10/dist-packages (from requests>=2.26.0->tiktoken) (3.3.2)\n",
            "Requirement already satisfied: urllib3<3,>=1.21.1 in /usr/local/lib/python3.10/dist-packages (from requests>=2.26.0->tiktoken) (2.0.7)\n",
            "Downloading pdf2image-1.17.0-py3-none-any.whl (11 kB)\n",
            "Installing collected packages: pdf2image\n",
            "Successfully installed pdf2image-1.17.0\n"
          ]
        }
      ],
      "source": [
        "!pip install pypdf openai tiktoken pdf2image\n",
        "!pip install google-generativeai\n",
        "!apt-get install -y poppler-utils"
      ]
    },
    {
      "cell_type": "code",
      "source": [
        "from pdf2image import convert_from_path\n",
        "import google.generativeai as genai\n",
        "from google.colab import userdata\n",
        "import os\n",
        "import imghdr\n",
        "import PIL.Image"
      ],
      "metadata": {
        "id": "UEA_JYU0KfVf"
      },
      "execution_count": 14,
      "outputs": []
    },
    {
      "cell_type": "code",
      "execution_count": 7,
      "metadata": {
        "id": "ab9ASynfcIZn"
      },
      "outputs": [],
      "source": [
        "# GOOGLE_API_KEY=userdata.get('GOOGLE_API_KEY')\n",
        "GOOGLE_API_KEY = input(\"Please enter your Gemini API Key from Google AI studio : \")\n",
        "genai.configure(api_key=GOOGLE_API_KEY)"
      ]
    },
    {
      "cell_type": "code",
      "source": [
        "model = genai.GenerativeModel('gemini-1.5-flash')"
      ],
      "metadata": {
        "id": "AmOJ5orJLVtC"
      },
      "execution_count": 9,
      "outputs": []
    },
    {
      "cell_type": "code",
      "source": [
        "def system_prompt()->str:\n",
        "    system_prompt = f\"\"\"You are a Invoice/Receipt Analysing tool . Anaylse the image of the invoice provided and extract information from the following receipt image and return a JSON object with these exact keys:Customer_Details,Products,Total Amount.\\n\n",
        "    Rules:\n",
        "    1. For total_cost, use the highest monetary value in the text.\n",
        "    2. Customer_Details will consist of another json object consisting the keys Customer_Name,Customer_Address,Email Address,Phone Number,Customer ID,Billing Address,Shipping Address,Account Number,Tax ID/VAT Number,Company Name,Payment Method.\n",
        "    3.Products will consist of another json object consisting of keys Product_name_1,quantity,unit_price.\n",
        "    6. If any value is not found, return null.\n",
        "    7. If all values are null, return null.\n",
        "    Ensure the strictly that output is a valid JSON object containing strictly the above keys, without any explanations.\n",
        "    Generate a JSON response in the following format without using the ```json block. Ensure the output is properly formatted as plain text JSON.\\n\n",
        "    \\n\n",
        "    \"\"\"\n",
        "    return system_prompt"
      ],
      "metadata": {
        "id": "UAzuzF5XQwVh"
      },
      "execution_count": 44,
      "outputs": []
    },
    {
      "cell_type": "code",
      "source": [
        "#Function to generate a json with required keys\n",
        "def get_invoice_details(image):\n",
        "  response = model.generate_content([system_prompt(), image], stream=True)\n",
        "  response.resolve()\n",
        "  print(response.text)\n"
      ],
      "metadata": {
        "id": "P-ED1xlmNd9w"
      },
      "execution_count": 39,
      "outputs": []
    },
    {
      "cell_type": "code",
      "source": [
        "def save_pdf_as_image(images):\n",
        "  imgs=[]\n",
        "  for i, image in enumerate(images):\n",
        "    image.save(f'page_{i+1}.png', 'PNG')\n",
        "    imgs.append(f'/content/page_{i+1}.png')\n",
        "  return imgs"
      ],
      "metadata": {
        "id": "xQVesxqOYVPK"
      },
      "execution_count": 42,
      "outputs": []
    },
    {
      "cell_type": "code",
      "source": [
        "files_list = ['/content/Sample Invoice image.png','/content/Sample Invoice.pdf','/content/c669abb4-f485-4880-8973-cc7fdfeee22e.pdf']\n",
        "images = []\n",
        "# Iterate over the files and process them\n",
        "for file in files_list:\n",
        "  print(file)\n",
        "  if imghdr.what(file):\n",
        "    img = PIL.Image.open(file)\n",
        "    print(\"pinting image\")\n",
        "    print(img)\n",
        "    images.append(img)\n",
        "  elif file.lower().endswith('.pdf'):\n",
        "    img = convert_from_path(file)\n",
        "    print(\"converted pdf to image\")\n",
        "    print(img)\n",
        "    pdf_2_img=save_pdf_as_image(images)\n",
        "    for pdfimg in pdf_2_img:\n",
        "      imgg = PIL.Image.open(pdfimg)\n",
        "      images.append(imgg)\n",
        "\n",
        "  else:\n",
        "    print(f\"{file} is neither an image nor a PDF.\")\n",
        "\n",
        "for img in images:\n",
        "  print(\"Initiating the task...\")\n",
        "  get_invoice_details(img)\n",
        "  print(\"\\n\")\n",
        "\n",
        "\n",
        "\n",
        "\n",
        "\n"
      ],
      "metadata": {
        "colab": {
          "base_uri": "https://localhost:8080/",
          "height": 1000
        },
        "id": "BDIkSRmwJRMO",
        "outputId": "df959f59-2041-4b13-d835-7fefeed13e61"
      },
      "execution_count": 45,
      "outputs": [
        {
          "output_type": "stream",
          "name": "stdout",
          "text": [
            "/content/Sample Invoice image.png\n",
            "pinting image\n",
            "<PIL.PngImagePlugin.PngImageFile image mode=RGBA size=907x962 at 0x7D17BF4E9FC0>\n",
            "/content/Sample Invoice.pdf\n",
            "converted pdf to image\n",
            "[<PIL.PpmImagePlugin.PpmImageFile image mode=RGB size=1654x2339 at 0x7D17BF4E95D0>]\n",
            "/content/c669abb4-f485-4880-8973-cc7fdfeee22e.pdf\n",
            "converted pdf to image\n",
            "[<PIL.PpmImagePlugin.PpmImageFile image mode=RGB size=1654x2339 at 0x7D17BF4EAA10>]\n",
            "Initiating the task...\n",
            "{\n",
            "\"Customer_Details\": {\n",
            "\"Customer_Name\": \"Test\",\n",
            "\"Customer_Address\": \"Hyderabad, TELANGANA, 500089\",\n",
            "\"Email Address\": \"test@gmail.com\",\n",
            "\"Phone Number\": \"9108239284\",\n",
            "\"Customer ID\": null,\n",
            "\"Billing Address\": null,\n",
            "\"Shipping Address\": null,\n",
            "\"Account Number\": \"1234567890\",\n",
            "\"Tax ID/VAT Number\": null,\n",
            "\"Company Name\": null,\n",
            "\"Payment Method\": null\n",
            "},\n",
            "\"Products\": {\n",
            "\"Product_name_1\": \"WASTE AND SCRAP OF STAINLESS STEEL\",\n",
            "\"quantity\": \"6,790 KGS\",\n",
            "\"unit_price\": \"95.00\"\n",
            "},\n",
            "\"Total Amount\": \"7,68,771.00\"\n",
            "}\n",
            "\n",
            "\n",
            "Initiating the task...\n",
            "{\n",
            "\"Customer_Details\": {\n",
            "\"Customer_Name\": \"Test\",\n",
            "\"Customer_Address\": \"Hyderabad, TELANGANA, 500089\",\n",
            "\"Email Address\": \"test@gmail.com\",\n",
            "\"Phone Number\": \"9108239284\",\n",
            "\"Customer ID\": null,\n",
            "\"Billing Address\": null,\n",
            "\"Shipping Address\": \"Hyderabad, TELANGANA, 500089\",\n",
            "\"Account Number\": \"1234567890\",\n",
            "\"Tax ID/VAT Number\": \"27AAACT2727Q1ZW\",\n",
            "\"Company Name\": null,\n",
            "\"Payment Method\": null\n",
            "},\n",
            "\"Products\": {\n",
            "\"Product_name_1\": \"WASTE AND SCRAP OF STAINLESS STEEL\",\n",
            "\"quantity\": \"6,790 KGS\",\n",
            "\"unit_price\": \"95.00\"\n",
            "},\n",
            "\"Total Amount\": \"7,68,771.00\"\n",
            "}\n",
            "\n",
            "\n",
            "Initiating the task...\n",
            "{\n",
            "\"Customer_Details\": {\n",
            "\"Customer_Name\": \"Test\",\n",
            "\"Customer_Address\": \"Hyderabad, TELANGANA, 500089\",\n",
            "\"Email Address\": \"test@gmail.com\",\n",
            "\"Phone Number\": \"9108239284\",\n",
            "\"Customer ID\": null,\n",
            "\"Billing Address\": null,\n",
            "\"Shipping Address\": null,\n",
            "\"Account Number\": \"1234567890\",\n",
            "\"Tax ID/VAT Number\": null,\n",
            "\"Company Name\": null,\n",
            "\"Payment Method\": null\n",
            "},\n",
            "\"Products\": {\n",
            "\"Product_name_1\": \"WASTE AND SCRAP OF STAINLESS STEEL\",\n",
            "\"quantity\": \"6,790 KGS\",\n",
            "\"unit_price\": \"95.00\"\n",
            "},\n",
            "\"Total Amount\": \"7,68,771.00\"\n",
            "}\n",
            "\n",
            "\n",
            "Initiating the task...\n",
            "{\n",
            "\"Customer_Details\": {\n",
            "\"Customer_Name\": \"Test\",\n",
            "\"Customer_Address\": \"Hyderabad, TELANGANA, 500089\",\n",
            "\"Email Address\": \"test@gmail.com\",\n",
            "\"Phone Number\": \"9108239284\",\n",
            "\"Customer ID\": null,\n",
            "\"Billing Address\": null,\n",
            "\"Shipping Address\": null,\n",
            "\"Account Number\": \"1234567890\",\n",
            "\"Tax ID/VAT Number\": null,\n",
            "\"Company Name\": null,\n",
            "\"Payment Method\": null\n",
            "},\n",
            "\"Products\": {\n",
            "\"Product_name_1\": \"WASTE AND SCRAP OF STAINLESS STEEL\",\n",
            "\"quantity\": \"6,790 KGS\",\n",
            "\"unit_price\": \"95.00\"\n",
            "},\n",
            "\"Total Amount\": \"7,68,771.00\"\n",
            "}\n",
            "\n",
            "\n"
          ]
        }
      ]
    },
    {
      "cell_type": "code",
      "source": [
        "\n",
        "\n"
      ],
      "metadata": {
        "id": "SZh6TH-lJRus"
      },
      "execution_count": null,
      "outputs": []
    }
  ]
}